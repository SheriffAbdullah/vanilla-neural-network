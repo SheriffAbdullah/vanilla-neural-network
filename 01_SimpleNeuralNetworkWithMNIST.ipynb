{
 "cells": [
  {
   "cell_type": "markdown",
   "id": "e5c54a54",
   "metadata": {},
   "source": [
    "http://yann.lecun.com/exdb/mnist/"
   ]
  },
  {
   "cell_type": "markdown",
   "id": "a4b5678b",
   "metadata": {},
   "source": [
    "#### This is a Multi-Class Problem"
   ]
  },
  {
   "cell_type": "code",
   "execution_count": 1,
   "id": "0617d77b-6b16-4456-afdd-8107c97da789",
   "metadata": {},
   "outputs": [],
   "source": [
    "import numpy as np\n",
    "import pandas as pd\n",
    "import matplotlib.pyplot as plt\n",
    "import tensorflow as tf"
   ]
  },
  {
   "cell_type": "code",
   "execution_count": 2,
   "id": "a42336e9-c170-4353-bec9-c1d3c56e2b13",
   "metadata": {},
   "outputs": [
    {
     "name": "stdout",
     "output_type": "stream",
     "text": [
      "Downloading data from https://storage.googleapis.com/tensorflow/tf-keras-datasets/mnist.npz\n",
      "11490434/11490434 [==============================] - 4s 0us/step\n"
     ]
    }
   ],
   "source": [
    "DATA_URL = 'https://storage.googleapis.com/tensorflow/tf-keras-datasets/mnist.npz'\n",
    "\n",
    "path = tf.keras.utils.get_file('mnist.npz', DATA_URL)\n",
    "with np.load(path) as data:\n",
    "    x_train = data['x_train']\n",
    "    y_train = data['y_train']\n",
    "    x_test = data['x_test']\n",
    "    y_test = data['y_test']"
   ]
  },
  {
   "cell_type": "code",
   "execution_count": 3,
   "id": "7e69ed00",
   "metadata": {},
   "outputs": [
    {
     "name": "stdout",
     "output_type": "stream",
     "text": [
      "Help on NpzFile in module numpy.lib.npyio object:\n",
      "\n",
      "class NpzFile(collections.abc.Mapping)\n",
      " |  NpzFile(fid, own_fid=False, allow_pickle=False, pickle_kwargs=None, *, max_header_size=10000)\n",
      " |  \n",
      " |  NpzFile(fid)\n",
      " |  \n",
      " |  A dictionary-like object with lazy-loading of files in the zipped\n",
      " |  archive provided on construction.\n",
      " |  \n",
      " |  `NpzFile` is used to load files in the NumPy ``.npz`` data archive\n",
      " |  format. It assumes that files in the archive have a ``.npy`` extension,\n",
      " |  other files are ignored.\n",
      " |  \n",
      " |  The arrays and file strings are lazily loaded on either\n",
      " |  getitem access using ``obj['key']`` or attribute lookup using\n",
      " |  ``obj.f.key``. A list of all files (without ``.npy`` extensions) can\n",
      " |  be obtained with ``obj.files`` and the ZipFile object itself using\n",
      " |  ``obj.zip``.\n",
      " |  \n",
      " |  Attributes\n",
      " |  ----------\n",
      " |  files : list of str\n",
      " |      List of all files in the archive with a ``.npy`` extension.\n",
      " |  zip : ZipFile instance\n",
      " |      The ZipFile object initialized with the zipped archive.\n",
      " |  f : BagObj instance\n",
      " |      An object on which attribute can be performed as an alternative\n",
      " |      to getitem access on the `NpzFile` instance itself.\n",
      " |  allow_pickle : bool, optional\n",
      " |      Allow loading pickled data. Default: False\n",
      " |  \n",
      " |      .. versionchanged:: 1.16.3\n",
      " |          Made default False in response to CVE-2019-6446.\n",
      " |  \n",
      " |  pickle_kwargs : dict, optional\n",
      " |      Additional keyword arguments to pass on to pickle.load.\n",
      " |      These are only useful when loading object arrays saved on\n",
      " |      Python 2 when using Python 3.\n",
      " |  max_header_size : int, optional\n",
      " |      Maximum allowed size of the header.  Large headers may not be safe\n",
      " |      to load securely and thus require explicitly passing a larger value.\n",
      " |      See :py:meth:`ast.literal_eval()` for details.\n",
      " |      This option is ignored when `allow_pickle` is passed.  In that case\n",
      " |      the file is by definition trusted and the limit is unnecessary.\n",
      " |  \n",
      " |  Parameters\n",
      " |  ----------\n",
      " |  fid : file or str\n",
      " |      The zipped archive to open. This is either a file-like object\n",
      " |      or a string containing the path to the archive.\n",
      " |  own_fid : bool, optional\n",
      " |      Whether NpzFile should close the file handle.\n",
      " |      Requires that `fid` is a file-like object.\n",
      " |  \n",
      " |  Examples\n",
      " |  --------\n",
      " |  >>> from tempfile import TemporaryFile\n",
      " |  >>> outfile = TemporaryFile()\n",
      " |  >>> x = np.arange(10)\n",
      " |  >>> y = np.sin(x)\n",
      " |  >>> np.savez(outfile, x=x, y=y)\n",
      " |  >>> _ = outfile.seek(0)\n",
      " |  \n",
      " |  >>> npz = np.load(outfile)\n",
      " |  >>> isinstance(npz, np.lib.npyio.NpzFile)\n",
      " |  True\n",
      " |  >>> sorted(npz.files)\n",
      " |  ['x', 'y']\n",
      " |  >>> npz['x']  # getitem access\n",
      " |  array([0, 1, 2, 3, 4, 5, 6, 7, 8, 9])\n",
      " |  >>> npz.f.x  # attribute lookup\n",
      " |  array([0, 1, 2, 3, 4, 5, 6, 7, 8, 9])\n",
      " |  \n",
      " |  Method resolution order:\n",
      " |      NpzFile\n",
      " |      collections.abc.Mapping\n",
      " |      collections.abc.Collection\n",
      " |      collections.abc.Sized\n",
      " |      collections.abc.Iterable\n",
      " |      collections.abc.Container\n",
      " |      builtins.object\n",
      " |  \n",
      " |  Methods defined here:\n",
      " |  \n",
      " |  __del__(self)\n",
      " |  \n",
      " |  __enter__(self)\n",
      " |  \n",
      " |  __exit__(self, exc_type, exc_value, traceback)\n",
      " |  \n",
      " |  __getitem__(self, key)\n",
      " |  \n",
      " |  __init__(self, fid, own_fid=False, allow_pickle=False, pickle_kwargs=None, *, max_header_size=10000)\n",
      " |      Initialize self.  See help(type(self)) for accurate signature.\n",
      " |  \n",
      " |  __iter__(self)\n",
      " |      # Implement the Mapping ABC\n",
      " |  \n",
      " |  __len__(self)\n",
      " |  \n",
      " |  close(self)\n",
      " |      Close the file.\n",
      " |  \n",
      " |  ----------------------------------------------------------------------\n",
      " |  Data descriptors defined here:\n",
      " |  \n",
      " |  __dict__\n",
      " |      dictionary for instance variables (if defined)\n",
      " |  \n",
      " |  __weakref__\n",
      " |      list of weak references to the object (if defined)\n",
      " |  \n",
      " |  ----------------------------------------------------------------------\n",
      " |  Data and other attributes defined here:\n",
      " |  \n",
      " |  __abstractmethods__ = frozenset()\n",
      " |  \n",
      " |  fid = None\n",
      " |  \n",
      " |  zip = None\n",
      " |  \n",
      " |  ----------------------------------------------------------------------\n",
      " |  Methods inherited from collections.abc.Mapping:\n",
      " |  \n",
      " |  __contains__(self, key)\n",
      " |  \n",
      " |  __eq__(self, other)\n",
      " |      Return self==value.\n",
      " |  \n",
      " |  get(self, key, default=None)\n",
      " |      Retrieve the corresponding layout by the string key.\n",
      " |      \n",
      " |      When there isn't an exact match, all the existing keys in the layout map\n",
      " |      will be treated as a regex and map against the input key again. The\n",
      " |      first match will be returned, based on the key insertion order. Return\n",
      " |      None if there isn't any match found.\n",
      " |      \n",
      " |      Args:\n",
      " |        key: the string key as the query for the layout.\n",
      " |      \n",
      " |      Returns:\n",
      " |        Corresponding layout based on the query.\n",
      " |  \n",
      " |  items(self)\n",
      " |      D.items() -> a set-like object providing a view on D's items\n",
      " |  \n",
      " |  keys(self)\n",
      " |      D.keys() -> a set-like object providing a view on D's keys\n",
      " |  \n",
      " |  values(self)\n",
      " |      D.values() -> an object providing a view on D's values\n",
      " |  \n",
      " |  ----------------------------------------------------------------------\n",
      " |  Data and other attributes inherited from collections.abc.Mapping:\n",
      " |  \n",
      " |  __hash__ = None\n",
      " |  \n",
      " |  __reversed__ = None\n",
      " |  \n",
      " |  ----------------------------------------------------------------------\n",
      " |  Class methods inherited from collections.abc.Collection:\n",
      " |  \n",
      " |  __subclasshook__(C) from abc.ABCMeta\n",
      " |      Abstract classes can override this to customize issubclass().\n",
      " |      \n",
      " |      This is invoked early on by abc.ABCMeta.__subclasscheck__().\n",
      " |      It should return True, False or NotImplemented.  If it returns\n",
      " |      NotImplemented, the normal algorithm is used.  Otherwise, it\n",
      " |      overrides the normal algorithm (and the outcome is cached).\n",
      "\n"
     ]
    }
   ],
   "source": [
    "help(data)"
   ]
  },
  {
   "cell_type": "code",
   "execution_count": 4,
   "id": "0eda9f94",
   "metadata": {},
   "outputs": [
    {
     "data": {
      "text/plain": [
       "['x_test', 'x_train', 'y_train', 'y_test']"
      ]
     },
     "execution_count": 4,
     "metadata": {},
     "output_type": "execute_result"
    }
   ],
   "source": [
    "data.files"
   ]
  },
  {
   "cell_type": "code",
   "execution_count": 5,
   "id": "59556162",
   "metadata": {},
   "outputs": [
    {
     "name": "stdout",
     "output_type": "stream",
     "text": [
      "(60000, 28, 28) (10000, 28, 28) (60000,) (10000,)\n"
     ]
    }
   ],
   "source": [
    "print(x_train.shape, x_test.shape, y_train.shape, y_test.shape)"
   ]
  },
  {
   "cell_type": "code",
   "execution_count": 7,
   "id": "d3659c1f",
   "metadata": {},
   "outputs": [
    {
     "data": {
      "image/png": "[encoded data removed]",
      "text/plain": [
       "<Figure size 640x480 with 1 Axes>"
      ]
     },
     "metadata": {},
     "output_type": "display_data"
    }
   ],
   "source": [
    "# Plotting\n",
    "\n",
    "n = int(input())\n",
    "\n",
    "plt.imshow(x_train[n], cmap='gray')\n",
    "plt.title(y_train[n])\n",
    "plt.show()"
   ]
  },
  {
   "cell_type": "code",
   "execution_count": 8,
   "id": "13e2ee62",
   "metadata": {},
   "outputs": [],
   "source": [
    "# Normalisation\n",
    "x_train = x_train / 255.0\n",
    "x_test = x_test / 255.0\n",
    "\n",
    "# Flattening\n",
    "x_train = x_train.reshape(-1, 28*28)\n",
    "x_test = x_test.reshape(-1, 28*28)"
   ]
  },
  {
   "cell_type": "code",
   "execution_count": 9,
   "id": "2ff32c66",
   "metadata": {},
   "outputs": [],
   "source": [
    "# One-hot encoding\n",
    "y_train_onehot = np.zeros((y_train.shape[0], 10))\n",
    "y_test_onehot = np.zeros((y_test.shape[0], 10))\n",
    "\n",
    "for i in range(y_train_onehot.shape[0]):\n",
    "    label = y_train[i]\n",
    "    y_train_onehot[i][label] = 1\n",
    "    \n",
    "for i in range(y_test_onehot.shape[0]):\n",
    "    label = y_test[i]\n",
    "    y_test_onehot[i][label] = 1"
   ]
  },
  {
   "cell_type": "code",
   "execution_count": 10,
   "id": "4460fad0",
   "metadata": {},
   "outputs": [
    {
     "data": {
      "text/plain": [
       "(60000, 10)"
      ]
     },
     "execution_count": 10,
     "metadata": {},
     "output_type": "execute_result"
    }
   ],
   "source": [
    "y_train_onehot.shape"
   ]
  },
  {
   "cell_type": "code",
   "execution_count": 11,
   "id": "0b2fa987",
   "metadata": {},
   "outputs": [
    {
     "data": {
      "text/plain": [
       "'\\ny_train = (np.sum(y_train, axis=1) == 0).astype(int).reshape(-1, 1)\\ny_test = (np.sum(y_test, axis=1) == 0).astype(int).reshape(-1, 1)\\ny_val = (np.sum(y_val, axis=1) == 0).astype(int).reshape(-1, 1)\\n\\n'"
      ]
     },
     "execution_count": 11,
     "metadata": {},
     "output_type": "execute_result"
    }
   ],
   "source": [
    "# [optional]\n",
    "# Converting multi-label-based problem to binary-class-based problem\n",
    "\n",
    "'''\n",
    "y_train = (np.sum(y_train, axis=1) == 0).astype(int).reshape(-1, 1)\n",
    "y_test = (np.sum(y_test, axis=1) == 0).astype(int).reshape(-1, 1)\n",
    "y_val = (np.sum(y_val, axis=1) == 0).astype(int).reshape(-1, 1)\n",
    "\n",
    "'''\n",
    "\n",
    "# astype() to convert 'bool' to 'int'\n",
    "# reshape() to change (n,) to (n, 1)"
   ]
  },
  {
   "cell_type": "code",
   "execution_count": 12,
   "id": "d872bb5a",
   "metadata": {},
   "outputs": [],
   "source": [
    "# [optional] - To be used instead of 'softmax_stable()'\n",
    "\n",
    "# NOT IN USE\n",
    "def sigmoid_stable(x, deriv=False):\n",
    "    if deriv:\n",
    "        s = sigmoid(x)\n",
    "        return s * (1 - s)\n",
    "    else:\n",
    "        z = np.exp(-np.abs(x))\n",
    "        return np.where(x > 0, 1 / (1 + z), z / (1 + z))\n",
    "        # np.exp(x) / (1 + np.exp(x)) is a numerically stable version of sigmoid "
   ]
  },
  {
   "cell_type": "code",
   "execution_count": 13,
   "id": "96477457",
   "metadata": {},
   "outputs": [],
   "source": [
    "# CHECKED\n",
    "def relu(x, deriv=False):\n",
    "    if deriv:\n",
    "        return np.where(x <= 0, 0, 1) # TODO: Check if this should've been 'x < 0'. Is the value of ReLU '0' at '0' because 'x' is '0' or because it is inherently zero?\n",
    "    else:\n",
    "        return np.where(x <= 0, 0, x)\n",
    "    \n",
    "    '''\n",
    "    if deriv:\n",
    "        if x < 0: return 0 \n",
    "        else: return 1\n",
    "    else:\n",
    "        if x < 0: return 0\n",
    "        else: return x\n",
    "    '''\n",
    "\n",
    "# CHECKED\n",
    "def softmax_stable(x, deriv=False):\n",
    "    if deriv:\n",
    "        s = softmax_stable(x)\n",
    "        return s * (1 - s)\n",
    "    else:\n",
    "        exps = np.exp(x - np.max(x, axis=1, keepdims=True))\n",
    "        row_sum = np.sum(exps, axis=1, keepdims=True)\n",
    "        return exps / row_sum\n",
    "\n",
    "# CHECKED\n",
    "def softmax(x, deriv=False):\n",
    "    if deriv:\n",
    "        s = softmax(x)\n",
    "        return s * (1 - s)\n",
    "    else:\n",
    "        exps = np.exp(x)\n",
    "        row_sum = np.sum(exps, axis=1, keepdims=True)\n",
    "        return exps / row_sum\n",
    "    "
   ]
  },
  {
   "cell_type": "code",
   "execution_count": 14,
   "id": "ace52102",
   "metadata": {},
   "outputs": [],
   "source": [
    "def categorical_cross_entropy(y_true, y_pred):\n",
    "    return -np.sum(y_true * np.log(y_pred + 1e-15)) / y_true.shape[0]\n"
   ]
  },
  {
   "cell_type": "code",
   "execution_count": 18,
   "id": "8de2b233",
   "metadata": {},
   "outputs": [],
   "source": [
    "class NeuralNetwork:\n",
    "    def __init__(self, input_size=784, hidden1_size=1024, hidden2_size=256, hidden3_size=128, output_size=10):\n",
    "        self.input_size = input_size # i\n",
    "        self.hidden1_size = hidden1_size # H1\n",
    "        self.hidden2_size = hidden2_size # H2\n",
    "        self.hidden3_size = hidden3_size # H3\n",
    "        self.output_size = output_size # o\n",
    "        \n",
    "        # TODO: Find what the sqrt does.\n",
    "        \n",
    "        # Weight initialisation\n",
    "        self.W1 = np.random.randn(self.input_size, self.hidden1_size) / np.sqrt(self.input_size) # [i, H1]\n",
    "        self.B1 = np.zeros((1, hidden1_size)) # [1, H1]\n",
    "        \n",
    "        self.W2 = np.random.randn(self.hidden1_size, self.hidden2_size) / np.sqrt(self.hidden1_size) # [H1, H2]\n",
    "        self.B2 = np.zeros((1, hidden2_size)) # [1, H2]\n",
    "        \n",
    "        self.W3 = np.random.randn(self.hidden2_size, self.hidden3_size) / np.sqrt(self.hidden2_size) # [H2, H3]\n",
    "        self.B3 = np.zeros((1, hidden3_size)) # [1, H3]\n",
    "        \n",
    "        self.W4 = np.random.randn(self.hidden3_size, self.output_size) / np.sqrt(self.hidden3_size) # [H3, o]\n",
    "        self.B4 = np.zeros((1, self.output_size)) # [1, o]\n",
    "        \n",
    "    def forward_propagation(self, X):\n",
    "        # A'n' = Activations at Layer 'n'\n",
    "        self.A1 = relu(np.dot(X, self.W1) + self.B1) # [n, H1] = [n, i] x [i, H1]\n",
    "        self.A2 = relu(np.dot(self.A1, self.W2) + self.B2) # [n, H2] = [n, H1] x [H1, H2]\n",
    "        self.A3 = relu(np.dot(self.A2, self.W3) + self.B3) # [n, H3] = [n, H2] x [H2, H3]\n",
    "        self.A4 = softmax_stable(np.dot(self.A3, self.W4) + self.B4) # [n, o] = [n, H3] x [H3, o]\n",
    "        \n",
    "        return self.A4\n",
    "        \n",
    "    def backward_propagation(self, X, Y):\n",
    "        error = self.A4 - Y # [n, o]\n",
    "        \n",
    "        # dA'n' = Error from Layer 'n'\n",
    "        dA4 = error * softmax_stable(self.A4, deriv=True)  # [n, o]\n",
    "\n",
    "        dW4 = np.dot(self.A3.T, dA4) # [H3, o] = [n, H3].T x [n, o]\n",
    "        dB4 = np.sum(dA4, axis=0, keepdims=True) # [1, o]\n",
    "        \n",
    "        dA3 = np.dot(dA4, self.W4.T) * relu(self.A3, deriv=True)  # [n, H3] = [n, o] x [H3, o].T * [n, H3]\n",
    "        \n",
    "        dW3 = np.dot(self.A2.T, dA3) # [H2, H3] = [n, H2].T x [n, H3]\n",
    "        dB3 = np.sum(dA3, axis=0, keepdims=True) # [1, H3]\n",
    "        \n",
    "        dA2 = np.dot(dA3, self.W3.T) * relu(self.A2, deriv=True) # [n, H2] = [n, H3] x [H2, H3].T * [n, H2]\n",
    "        \n",
    "        dW2 = np.dot(self.A1.T, dA2) # [H1, H2] = [n, H1].T x [n, H2]\n",
    "        dB2 = np.sum(dA2, axis=0, keepdims=True) # [1, H2]\n",
    "        \n",
    "        dA1 = np.dot(dA2, self.W2.T) * relu(self.A1, deriv=True) # [n, H1] = [n, H2] x [H1, H2].T * [n, H1]\n",
    "        \n",
    "        dW1 = np.dot(X.T, dA1) # [i, H1] = [n, i].T x [n, H1]\n",
    "        dB1 = np.sum(dA1, axis=0, keepdims=True)\n",
    "        \n",
    "        return ((dW4, dW3, dW2, dW1), (dB4, dB3, dB2, dB1))\n",
    "    \n",
    "    \n",
    "    def find_loss(self, Y, Ypred):\n",
    "        return categorical_cross_entropy(Y, Ypred)\n",
    "\n",
    "        '''\n",
    "        Old find_loss\n",
    "\n",
    "        Ypred = np.where(Ypred < 0.5, 0, 1) # Thresholding\n",
    "        \n",
    "        # Binary Crossentropy / Log Loss\n",
    "        m = Y.shape[0]\n",
    "        \n",
    "        a = Y * np.log(Ypred + 1e-15) # Adding a small value to prevent log(0)\n",
    "        b = (1 - Y) * np.log(1 - Ypred + 1e-15) # Adding a small value to prevent log(0)\n",
    "        \n",
    "        return - np.sum((a + b)) / m\n",
    "        '''\n",
    "    \n",
    "    def find_accuracy(self, Y, Ypred):\n",
    "        Ypred_classes = np.argmax(Ypred, axis=1)\n",
    "        Y_classes = np.argmax(Y, axis=1)\n",
    "        return np.mean(Ypred_classes == Y_classes)\n",
    "\n",
    "        '''\n",
    "        Old find_accuracy\n",
    "\n",
    "        # Convert Ypred from float to binary\n",
    "        max_elts = np.max(Ypred, axis=1)\n",
    "        max_elts = max_elts.reshape(-1, 1) # Convert [1, n] to [n, 1]\n",
    "        Ypred = np.where(Ypred == max_elts, 1, 0)\n",
    "        \n",
    "        m = Y.shape[0]\n",
    "        \n",
    "        # Compare predicted & actual class\n",
    "        return np.sum(np.all(Ypred == Y, axis=1)) / m\n",
    "        '''\n",
    "        \n",
    "    def train_neural_network(self, X, Y, Xval, Yval, num_of_epochs, learning_rate):\n",
    "        for epoch in range(num_of_epochs):\n",
    "            # Implementing learning rate decay\n",
    "            learning_rate = learning_rate / (1 + 0.001 * epoch)\n",
    "            \n",
    "            # Training\n",
    "            A4 = self.forward_propagation(X)\n",
    "            \n",
    "            ((dW4, dW3, dW2, dW1), (dB4, dB3, dB2, dB1)) = self.backward_propagation(X, Y)\n",
    "            \n",
    "            # Update Weights & Biases\n",
    "            self.W4 -= learning_rate * dW4\n",
    "            self.B4 -= learning_rate * dB4\n",
    "            \n",
    "            self.W3 -= learning_rate * dW3\n",
    "            self.B3 -= learning_rate * dB3\n",
    "        \n",
    "            self.W2 -= learning_rate * dW2\n",
    "            self.B2 -= learning_rate * dB2\n",
    "            \n",
    "            self.W1 -= learning_rate * dW1\n",
    "            self.B1 -= learning_rate * dB1\n",
    "            \n",
    "            loss = self.find_loss(Y, A4)\n",
    "            \n",
    "            # Validation\n",
    "            A4val = self.forward_propagation(Xval)\n",
    "            accuracy = self.find_accuracy(Yval, A4val)\n",
    "            #f1_score = self.find_f1_score(Yval, A4val)\n",
    "            \n",
    "            print(f\"Epoch: {epoch} | Loss: {loss} | Accuracy: {accuracy}\")"
   ]
  },
  {
   "cell_type": "code",
   "execution_count": 19,
   "id": "a8ac647b",
   "metadata": {
    "scrolled": true
   },
   "outputs": [
    {
     "name": "stdout",
     "output_type": "stream",
     "text": [
      "Epoch: 0 | Loss: 2.311285028296671 | Accuracy: 0.098\n",
      "Epoch: 1 | Loss: 31.129221189869046 | Accuracy: 0.0974\n",
      "Epoch: 2 | Loss: 31.17067005013368 | Accuracy: 0.101\n",
      "Epoch: 3 | Loss: 31.009489093624094 | Accuracy: 0.098\n",
      "Epoch: 4 | Loss: 31.129223518459785 | Accuracy: 0.0974\n",
      "Epoch: 5 | Loss: 31.17067005013368 | Accuracy: 0.098\n",
      "Epoch: 6 | Loss: nan | Accuracy: 0.098\n",
      "Epoch: 7 | Loss: nan | Accuracy: 0.098\n",
      "Epoch: 8 | Loss: nan | Accuracy: 0.098\n",
      "Epoch: 9 | Loss: nan | Accuracy: 0.098\n",
      "Epoch: 10 | Loss: nan | Accuracy: 0.098\n",
      "Epoch: 11 | Loss: nan | Accuracy: 0.098\n",
      "Epoch: 12 | Loss: nan | Accuracy: 0.098\n",
      "Epoch: 13 | Loss: nan | Accuracy: 0.098\n",
      "Epoch: 14 | Loss: nan | Accuracy: 0.098\n",
      "Epoch: 15 | Loss: nan | Accuracy: 0.098\n",
      "Epoch: 16 | Loss: nan | Accuracy: 0.098\n",
      "Epoch: 17 | Loss: nan | Accuracy: 0.098\n",
      "Epoch: 18 | Loss: nan | Accuracy: 0.098\n",
      "Epoch: 19 | Loss: nan | Accuracy: 0.098\n",
      "Epoch: 20 | Loss: nan | Accuracy: 0.098\n",
      "Epoch: 21 | Loss: nan | Accuracy: 0.098\n",
      "Epoch: 22 | Loss: nan | Accuracy: 0.098\n",
      "Epoch: 23 | Loss: nan | Accuracy: 0.098\n",
      "Epoch: 24 | Loss: nan | Accuracy: 0.098\n",
      "Epoch: 25 | Loss: nan | Accuracy: 0.098\n",
      "Epoch: 26 | Loss: nan | Accuracy: 0.098\n",
      "Epoch: 27 | Loss: nan | Accuracy: 0.098\n",
      "Epoch: 28 | Loss: nan | Accuracy: 0.098\n",
      "Epoch: 29 | Loss: nan | Accuracy: 0.098\n"
     ]
    }
   ],
   "source": [
    "nn = NeuralNetwork()\n",
    "nn.train_neural_network(x_train, y_train_onehot, x_test, y_test_onehot, 30, 0.01)"
   ]
  },
  {
   "cell_type": "code",
   "execution_count": null,
   "id": "75b56d95",
   "metadata": {},
   "outputs": [],
   "source": []
  }
 ],
 "metadata": {
  "kernelspec": {
   "display_name": "CPU",
   "language": "python",
   "name": "python3"
  },
  "language_info": {
   "codemirror_mode": {
    "name": "ipython",
    "version": 3
   },
   "file_extension": ".py",
   "mimetype": "text/x-python",
   "name": "python",
   "nbconvert_exporter": "python",
   "pygments_lexer": "ipython3",
   "version": "3.8.18"
  }
 },
 "nbformat": 4,
 "nbformat_minor": 5
}
